{
 "cells": [
  {
   "cell_type": "markdown",
   "id": "0739f8dd-bdcb-4bc5-9851-4095dd08a94c",
   "metadata": {},
   "source": [
    "1. In the below elements which of them are values or an expression? eg:- values can be integer or string and expressions will be mathematical operators.\n",
    "* \n",
    "'hello'\n",
    "-87.8\n",
    "- \n",
    "/ \n",
    "+\t\n",
    "6 "
   ]
  },
  {
   "cell_type": "raw",
   "id": "d915785c-008c-4fb9-b3ca-d60f4921b614",
   "metadata": {},
   "source": [
    "Ans:----->>>\n",
    " 'hello' ----> Value   \n",
    " -87.8  -----> Value\n",
    " -      -----> (sunstraction operator) Expression\n",
    " /      -----> (division oprator)expression\n",
    " +      -----> (Addition operator) expression\n",
    " 6      -----> Value\n"
   ]
  },
  {
   "cell_type": "markdown",
   "id": "c3c162af-6982-4e04-aed7-6491bccbfacd",
   "metadata": {},
   "source": [
    "2. What is the difference between string and variable?"
   ]
  },
  {
   "cell_type": "raw",
   "id": "f9e468b6-0912-4747-b50d-dec54122d66d",
   "metadata": {},
   "source": [
    "Ans :------->\n",
    "String : String is kind of data or any type of information.\n",
    "Variable : use to store the data ( integer , string etc.)"
   ]
  },
  {
   "cell_type": "markdown",
   "id": "014a1317-1888-49dc-9608-0be53f3d1c38",
   "metadata": {},
   "source": [
    "3. Describe three different data types."
   ]
  },
  {
   "cell_type": "raw",
   "id": "71e60b3e-4e88-4960-bb19-fd241aa27dbe",
   "metadata": {},
   "source": [
    "1. String data types is a sequence of characters\n",
    "    str  - contain the characters\n",
    "2. Numeric data types: used to assign numeric values \n",
    "    int - holds signed integers\n",
    "    float - holds floating precision numbers\n",
    "    complex - contain complex numbers\n",
    "2. Boolean data type: hold the boolean values 'True' and 'False'.\n",
    "    bool - 'True' , 'False'"
   ]
  },
  {
   "cell_type": "markdown",
   "id": "07c9c22e-b330-4c45-aa0d-558e5053952e",
   "metadata": {},
   "source": [
    "4. What is an expression made up of? What do all expressions do?"
   ]
  },
  {
   "cell_type": "raw",
   "id": "c4312814-2ef1-4b38-8d01-ba10e3aaefd5",
   "metadata": {},
   "source": [
    "Ans:----->\n",
    "Expression is made up with input values and mathematical operators. By using expressions and input vaues  we can get the output as per the mathematicla operator and function defined"
   ]
  },
  {
   "cell_type": "markdown",
   "id": "44222903-1f86-4de9-9ace-3959f1739f9f",
   "metadata": {},
   "source": [
    "5. This assignment statements, like spam = 10. What is the difference between an expression and a statement?"
   ]
  },
  {
   "cell_type": "raw",
   "id": "37687b2b-e1d6-4c19-9663-f0802039f67f",
   "metadata": {},
   "source": [
    "Ans :----->\n",
    "Statements are informations  about the program or function or expressions , while expression is like a mathematicla expression where we provide input and get the output as per the operator."
   ]
  },
  {
   "cell_type": "markdown",
   "id": "8191224b-cad1-4701-be0e-ec056012faff",
   "metadata": {},
   "source": [
    "6. After running the following code, what does the variable bacon contain?\n",
    "bacon = 22\n",
    "bacon + 1"
   ]
  },
  {
   "cell_type": "code",
   "execution_count": 3,
   "id": "02575e5f-d595-4fc3-97fb-32f95a4c9dac",
   "metadata": {},
   "outputs": [
    {
     "data": {
      "text/plain": [
       "23"
      ]
     },
     "execution_count": 3,
     "metadata": {},
     "output_type": "execute_result"
    }
   ],
   "source": [
    "bacon=22  ## 22 valus is been assigned to the bacon variable\n",
    "bacon+1   ##bacon variable been incremented by 1"
   ]
  },
  {
   "cell_type": "markdown",
   "id": "8bec7ebc-96d9-4594-ab15-28717bad04fc",
   "metadata": {},
   "source": [
    "7. What should the values of the following two terms be?\n",
    "'spam' + 'spamspam'\n",
    "'spam' * 3"
   ]
  },
  {
   "cell_type": "code",
   "execution_count": 6,
   "id": "d1d16c90-9679-41b0-868f-fbfd3bcbac82",
   "metadata": {},
   "outputs": [
    {
     "data": {
      "text/plain": [
       "'spamspamspam'"
      ]
     },
     "execution_count": 6,
     "metadata": {},
     "output_type": "execute_result"
    }
   ],
   "source": [
    "'spam' + 'spamspam' #this expression will concatenate both the string and provide the output after concatenation \n",
    "'spam' * 3  # it multiplies the string by 3 times will give the output with string written 3 times"
   ]
  },
  {
   "cell_type": "markdown",
   "id": "168cc750-7fb4-4bda-b1bc-ad53cda7dd45",
   "metadata": {},
   "source": [
    "8. Why is eggs a valid variable name while 100 is invalid?"
   ]
  },
  {
   "cell_type": "raw",
   "id": "7c82a500-8755-48e7-b123-194a5c3c9482",
   "metadata": {},
   "source": [
    "Ans : ---->\n",
    "variable name can be started with character values but not with numbers, thats whay eggs is valid variable while 100 is not"
   ]
  },
  {
   "cell_type": "code",
   "execution_count": null,
   "id": "2ececc20-ddc0-4678-9259-9209fdc1aa1e",
   "metadata": {},
   "outputs": [],
   "source": [
    "9. What three functions can be used to get the integer, floating-point number, or string version of a value?"
   ]
  },
  {
   "cell_type": "code",
   "execution_count": 18,
   "id": "720a20d3-bab2-4dad-940d-a30c631fd206",
   "metadata": {},
   "outputs": [
    {
     "data": {
      "text/plain": [
       "str"
      ]
     },
     "execution_count": 18,
     "metadata": {},
     "output_type": "execute_result"
    }
   ],
   "source": [
    "a='123'\n",
    "type(a)  #  this show the data type\n",
    "type(int(a)) ## will change the data type of the values to integer \n",
    "type(float(a)) # will change the data type of the values to float\n",
    "type(str(a))  #  will change the data type of the values to string\n"
   ]
  },
  {
   "cell_type": "markdown",
   "id": "ca27b816-e137-4305-886e-4cc73a7d7121",
   "metadata": {},
   "source": [
    "10. Why does this expression cause an error? How can you fix it?\n",
    "'I have eaten ' + 99 + ' burritos.'"
   ]
  },
  {
   "cell_type": "code",
   "execution_count": 22,
   "id": "12845e9d-6952-47d4-b8b4-6c7bdadc447d",
   "metadata": {},
   "outputs": [
    {
     "ename": "TypeError",
     "evalue": "can only concatenate str (not \"int\") to str",
     "output_type": "error",
     "traceback": [
      "\u001b[0;31m---------------------------------------------------------------------------\u001b[0m",
      "\u001b[0;31mTypeError\u001b[0m                                 Traceback (most recent call last)",
      "Cell \u001b[0;32mIn [22], line 1\u001b[0m\n\u001b[0;32m----> 1\u001b[0m \u001b[38;5;124;43m'\u001b[39;49m\u001b[38;5;124;43mI have eaten \u001b[39;49m\u001b[38;5;124;43m'\u001b[39;49m\u001b[43m \u001b[49m\u001b[38;5;241;43m+\u001b[39;49m\u001b[43m \u001b[49m\u001b[38;5;241;43m99\u001b[39;49m \u001b[38;5;241m+\u001b[39m \u001b[38;5;124m'\u001b[39m\u001b[38;5;124m burritos.\u001b[39m\u001b[38;5;124m'\u001b[39m\n\u001b[1;32m      2\u001b[0m \u001b[38;5;66;03m# concatenation can be done on all interegers values or on all string values i.e on same data type\u001b[39;00m\n\u001b[1;32m      3\u001b[0m \u001b[38;5;66;03m#correct format could be-->\u001b[39;00m\n\u001b[1;32m      4\u001b[0m \u001b[38;5;124m'\u001b[39m\u001b[38;5;124mI have eaten \u001b[39m\u001b[38;5;124m'\u001b[39m \u001b[38;5;241m+\u001b[39m \u001b[38;5;124m'\u001b[39m\u001b[38;5;124m99\u001b[39m\u001b[38;5;124m'\u001b[39m \u001b[38;5;241m+\u001b[39m \u001b[38;5;124m'\u001b[39m\u001b[38;5;124m burritos.\u001b[39m\u001b[38;5;124m'\u001b[39m\n",
      "\u001b[0;31mTypeError\u001b[0m: can only concatenate str (not \"int\") to str"
     ]
    }
   ],
   "source": [
    "'I have eaten ' + 99 + ' burritos.'\n",
    "# concatenation can be done on all interegers values or on all string values i.e on same data type\n",
    "#correct format could be-->\n",
    "'I have eaten ' + '99' + ' burritos.'"
   ]
  }
 ],
 "metadata": {
  "kernelspec": {
   "display_name": "Python 3 (ipykernel)",
   "language": "python",
   "name": "python3"
  },
  "language_info": {
   "codemirror_mode": {
    "name": "ipython",
    "version": 3
   },
   "file_extension": ".py",
   "mimetype": "text/x-python",
   "name": "python",
   "nbconvert_exporter": "python",
   "pygments_lexer": "ipython3",
   "version": "3.10.6"
  }
 },
 "nbformat": 4,
 "nbformat_minor": 5
}
